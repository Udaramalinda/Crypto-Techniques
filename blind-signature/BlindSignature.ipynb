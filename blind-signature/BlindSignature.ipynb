{
 "cells": [
  {
   "cell_type": "markdown",
   "id": "44b5621f",
   "metadata": {},
   "source": [
    "# Implementation of a Blind Signature Scheme with RSA\n",
    "\n",
    "## RSA Key Pair Generation"
   ]
  },
  {
   "cell_type": "code",
   "execution_count": 26,
   "id": "1858b8e4",
   "metadata": {},
   "outputs": [],
   "source": [
    "import random\n",
    "\n",
    "# Miller-Rabin Primality Test\n",
    "def miller_rabin(n, k=5):  # number of rounds k=5 gives a good balance between accuracy and performance\n",
    "    if n == 2 or n == 3:\n",
    "        return True\n",
    "    if n % 2 == 0:\n",
    "        return False\n",
    "    \n",
    "    # Write n-1 as 2^r * d\n",
    "    r, d = 0, n - 1\n",
    "    while d % 2 == 0:\n",
    "        r += 1\n",
    "        d //= 2\n",
    "    \n",
    "    for _ in range(k):\n",
    "        a = random.randint(2, n - 2)\n",
    "        x = pow(a, d, n)\n",
    "        if x == 1 or x == n - 1:\n",
    "            continue\n",
    "        for _ in range(r - 1):\n",
    "            x = pow(x, 2, n)\n",
    "            if x == n - 1:\n",
    "                break\n",
    "        else:\n",
    "            return False\n",
    "    return True\n",
    "\n",
    "# Function to generate a large prime number\n",
    "def generate_large_prime(bits=32):\n",
    "    while True:\n",
    "        p = random.getrandbits(bits)\n",
    "        if p % 2 != 0 and miller_rabin(p):\n",
    "            return p"
   ]
  },
  {
   "cell_type": "code",
   "execution_count": 27,
   "id": "73632885",
   "metadata": {},
   "outputs": [
    {
     "name": "stdout",
     "output_type": "stream",
     "text": [
      "Prime composite n: 3595555571165719001\n",
      "Euler totient function of n: 3595555567191036900\n"
     ]
    }
   ],
   "source": [
    "p = generate_large_prime() # prime number\n",
    "q = generate_large_prime() # prime number\n",
    "\n",
    "n = p*q # prime composite\n",
    "print('Prime composite n:',n)\n",
    "\n",
    "phi_n = (p-1)*(q-1) # Euler Totient Function of n\n",
    "print('Euler totient function of n:',phi_n)"
   ]
  },
  {
   "cell_type": "markdown",
   "id": "111a3f7e",
   "metadata": {},
   "source": [
    "### Greatest Common Divisor utility function"
   ]
  },
  {
   "cell_type": "code",
   "execution_count": 28,
   "id": "3ca47c86",
   "metadata": {},
   "outputs": [],
   "source": [
    "def gcd(a, b):\n",
    "    if((a<0) or (b<0) or (a<b)):\n",
    "        print(\"wrong parameter input\")\n",
    "        return\n",
    "\n",
    "    while(b != 0):\n",
    "        r = a % b\n",
    "        a = b\n",
    "        b = r\n",
    "        \n",
    "    return a"
   ]
  },
  {
   "cell_type": "code",
   "execution_count": 29,
   "id": "002f6662",
   "metadata": {},
   "outputs": [
    {
     "name": "stdout",
     "output_type": "stream",
     "text": [
      "True\n",
      "1\n",
      "Public exponent: 592285037\n"
     ]
    }
   ],
   "source": [
    "e = generate_large_prime() # public exponent\n",
    "print((1 < e) and (e < phi_n))\n",
    "print(gcd(phi_n,e))\n",
    "print('Public exponent:',e)"
   ]
  },
  {
   "cell_type": "markdown",
   "id": "d1001de7",
   "metadata": {},
   "source": [
    "### Modulo Inverse utility function"
   ]
  },
  {
   "cell_type": "code",
   "execution_count": 30,
   "id": "8a0ab2d5",
   "metadata": {},
   "outputs": [],
   "source": [
    "# Calculate the modular inverse of k mod q efficiently\n",
    "\n",
    "def extended_gcd(k, q):\n",
    "    if k == 0:\n",
    "        return q, 0, 1\n",
    "    gcd, x1, y1 = extended_gcd(q % k, k)\n",
    "    x = y1 - (q // k) * x1\n",
    "    y = x1\n",
    "    return gcd, x, y\n",
    "\n",
    "def mod_inverse(k, q):\n",
    "    gcd, invk, _ = extended_gcd(k, q)\n",
    "    if gcd != 1:\n",
    "        raise ValueError(f\"Inverse doesn't exist for k = {k} mod q = {q}, as they are not coprime.\")\n",
    "    return invk % q"
   ]
  },
  {
   "cell_type": "code",
   "execution_count": 31,
   "id": "f7d8a528",
   "metadata": {},
   "outputs": [
    {
     "name": "stdout",
     "output_type": "stream",
     "text": [
      "Secret exponent: 1224645852219829373\n"
     ]
    }
   ],
   "source": [
    "d = mod_inverse(e,phi_n)\n",
    "print('Secret exponent:',d)"
   ]
  },
  {
   "cell_type": "code",
   "execution_count": 32,
   "id": "7fab3858",
   "metadata": {},
   "outputs": [
    {
     "name": "stdout",
     "output_type": "stream",
     "text": [
      "Secret key (d): 1224645852219829373\n",
      "Public key (e,n): 592285037 3595555571165719001\n"
     ]
    }
   ],
   "source": [
    "print('Secret key (d):',d)\n",
    "print('Public key (e,n):',e,n)"
   ]
  },
  {
   "cell_type": "code",
   "execution_count": 33,
   "id": "be839282",
   "metadata": {},
   "outputs": [
    {
     "name": "stdout",
     "output_type": "stream",
     "text": [
      "message: Ado mama Anjula\n"
     ]
    }
   ],
   "source": [
    "import hashlib\n",
    "\n",
    "# get the message as input from a message.txt file\n",
    "def read_message_from_file(file_name, n):\n",
    "    with open(file_name, 'r') as file:\n",
    "        # Read the message from the file\n",
    "        message = file.read()\n",
    "        print('message:', message)\n",
    "        # Convert the message to a sha256 hash\n",
    "        sha256_hash = hashlib.sha256(message.encode()).hexdigest()\n",
    "        \n",
    "    return int(sha256_hash, 16) % n # Convert the hash to an integer\n",
    "\n",
    "# write the signature on the disk\n",
    "def write_signature_to_file(signature, file_name):\n",
    "    with open(file_name, 'w') as file:\n",
    "        file.write(str(signature))\n",
    "     \n",
    "# read the signature from the disk        \n",
    "def read_signature_from_file(file_name):\n",
    "    with open(file_name, 'r') as file:\n",
    "        signature = int(file.read())\n",
    "        \n",
    "    return signature\n",
    "    \n",
    "message_filename = 'message.txt'\n",
    "signature_filename = 'signature.txt'\n",
    "m = read_message_from_file(message_filename, n)"
   ]
  },
  {
   "cell_type": "markdown",
   "id": "af4c05fd",
   "metadata": {},
   "source": [
    "## Verifying Key Pair using RSA Public Key Encryption"
   ]
  },
  {
   "cell_type": "code",
   "execution_count": 34,
   "id": "ccbee72f",
   "metadata": {},
   "outputs": [
    {
     "name": "stdout",
     "output_type": "stream",
     "text": [
      "Plaintext : 1469870244539900414\n",
      "Ciphertext: 78136843000316676\n",
      "Decryption: 1469870244539900414\n"
     ]
    }
   ],
   "source": [
    "print('Plaintext :',m)\n",
    "c = pow(m, e, n) # public key encryption\n",
    "print('Ciphertext:',c)\n",
    "m1 = pow(c, d, n) # public key decryption\n",
    "print('Decryption:',m1)"
   ]
  },
  {
   "cell_type": "markdown",
   "id": "164b872e",
   "metadata": {},
   "source": [
    "## Blind Signature Generation"
   ]
  },
  {
   "cell_type": "code",
   "execution_count": 35,
   "id": "855b79ec",
   "metadata": {},
   "outputs": [
    {
     "name": "stdout",
     "output_type": "stream",
     "text": [
      "Blinding factor: 3306608607340632204\n",
      "Blinded message: 364403294961421539\n"
     ]
    }
   ],
   "source": [
    "k = generate_large_prime() # blinding factor\n",
    "bf = pow(k, e, n) # blinding factor\n",
    "print('Blinding factor:',bf)\n",
    "m1 = (m*bf)%n # blinded message\n",
    "print('Blinded message:',m1)"
   ]
  },
  {
   "cell_type": "code",
   "execution_count": 36,
   "id": "4022e706",
   "metadata": {},
   "outputs": [
    {
     "name": "stdout",
     "output_type": "stream",
     "text": [
      "Signature on blinded message: 3422019689197458095\n"
     ]
    }
   ],
   "source": [
    "s1 = pow(m1, d, n) # signature on blinded message\n",
    "print('Signature on blinded message:',s1)\n",
    "write_signature_to_file(s1, signature_filename)"
   ]
  },
  {
   "cell_type": "code",
   "execution_count": 37,
   "id": "da3b2e75",
   "metadata": {},
   "outputs": [
    {
     "name": "stdout",
     "output_type": "stream",
     "text": [
      "Signature on original message: 1343383836941302309\n",
      "Signature on original message when directly computed: 1343383836941302309\n"
     ]
    }
   ],
   "source": [
    "s1 = read_signature_from_file(signature_filename)\n",
    "invk = mod_inverse(k,n)\n",
    "s = (s1*invk)%n # recovery of signature\n",
    "print('Signature on original message:',s)\n",
    "\n",
    "s0 = pow(m, d, n) # compute the signature directly\n",
    "print('Signature on original message when directly computed:',s0)"
   ]
  },
  {
   "cell_type": "code",
   "execution_count": 38,
   "id": "1a7eda98",
   "metadata": {},
   "outputs": [
    {
     "name": "stdout",
     "output_type": "stream",
     "text": [
      "Signature is valid\n"
     ]
    }
   ],
   "source": [
    "# check if the signature is valid\n",
    "if s == s0:\n",
    "    print('Signature is valid')\n",
    "else:\n",
    "    print('Signature is invalid')"
   ]
  }
 ],
 "metadata": {
  "kernelspec": {
   "display_name": "Python 3 (ipykernel)",
   "language": "python",
   "name": "python3"
  },
  "language_info": {
   "codemirror_mode": {
    "name": "ipython",
    "version": 3
   },
   "file_extension": ".py",
   "mimetype": "text/x-python",
   "name": "python",
   "nbconvert_exporter": "python",
   "pygments_lexer": "ipython3",
   "version": "3.11.2"
  }
 },
 "nbformat": 4,
 "nbformat_minor": 5
}
