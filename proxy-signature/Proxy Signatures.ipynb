{
 "cells": [
  {
   "cell_type": "markdown",
   "id": "4069644f",
   "metadata": {},
   "source": [
    "# Basic Proxy Signature Protocol for Partial Delegation"
   ]
  },
  {
   "cell_type": "markdown",
   "id": "30e7c614",
   "metadata": {},
   "source": [
    "## Greatest Common Divisor\n",
    "\n",
    "We need this function in the signature scheme as a utility function."
   ]
  },
  {
   "cell_type": "code",
   "execution_count": 29,
   "id": "4d75e8c5",
   "metadata": {},
   "outputs": [],
   "source": [
    "def gcd(a, b):\n",
    "    if((a<0) or (b<0) or (a<b)):\n",
    "        print(\"wrong parameter input\")\n",
    "        return\n",
    "\n",
    "    while(b != 0):\n",
    "        r = a % b\n",
    "        a = b\n",
    "        b = r\n",
    "        \n",
    "    return a"
   ]
  },
  {
   "cell_type": "code",
   "execution_count": 30,
   "id": "9063ffe1",
   "metadata": {},
   "outputs": [
    {
     "name": "stdout",
     "output_type": "stream",
     "text": [
      "gcd( 31 , 23 )= 1\n",
      "gcd( 16 , 9 )= 1\n",
      "gcd( 468 , 249 )= 3\n"
     ]
    }
   ],
   "source": [
    "a = 31\n",
    "b = 23\n",
    "d = gcd(a,b)\n",
    "print('gcd(',a,',',b,')=',d)\n",
    "\n",
    "a = 16\n",
    "b = 9\n",
    "d = gcd(a,b)\n",
    "print('gcd(',a,',',b,')=',d)\n",
    "\n",
    "a = 468\n",
    "b = 249\n",
    "d = gcd(a,b)\n",
    "print('gcd(',a,',',b,')=',d)"
   ]
  },
  {
   "cell_type": "markdown",
   "id": "71304b24",
   "metadata": {},
   "source": [
    "# Protocol\n",
    "\n",
    "## Setup: Key pair generation of original signer\n",
    "\n",
    "public parameter - modulus: prime $p$\n",
    "\n",
    "public parameter - generator for $Z^*_p$: $g$\n",
    "\n",
    "public key: v\n",
    "\n",
    "secret key: s\n",
    "\n",
    "__In this test implementation, only input needs to be given by the user is the prime modulus $p$.__"
   ]
  },
  {
   "cell_type": "code",
   "execution_count": 31,
   "id": "dce84d04",
   "metadata": {},
   "outputs": [
    {
     "name": "stdout",
     "output_type": "stream",
     "text": [
      "*public parameters*\n",
      "prime modulus (p): 5032252537865353033\n",
      "generator     (g): 5\n",
      "*key pair of original signer*\n",
      "public key    (v): 2012982231122774110\n",
      "secret key    (s): 2614340758240045521\n"
     ]
    }
   ],
   "source": [
    "import random\n",
    "\n",
    "# Miller-Rabin Primality Test\n",
    "def miller_rabin(n, k=5):  # number of rounds k=5 gives a good balance between accuracy and performance\n",
    "    if n == 2 or n == 3:\n",
    "        return True\n",
    "    if n % 2 == 0:\n",
    "        return False\n",
    "    \n",
    "    # Write n-1 as 2^r * d\n",
    "    r, d = 0, n - 1\n",
    "    while d % 2 == 0:\n",
    "        r += 1\n",
    "        d //= 2\n",
    "    \n",
    "    for _ in range(k):\n",
    "        a = random.randint(2, n - 2)\n",
    "        x = pow(a, d, n)\n",
    "        if x == 1 or x == n - 1:\n",
    "            continue\n",
    "        for _ in range(r - 1):\n",
    "            x = pow(x, 2, n)\n",
    "            if x == n - 1:\n",
    "                break\n",
    "        else:\n",
    "            return False\n",
    "    return True\n",
    "\n",
    "# Function to generate a large prime number\n",
    "def generate_large_prime(bits=32):\n",
    "    while True:\n",
    "        p = random.getrandbits(bits)\n",
    "        if p % 2 != 0 and miller_rabin(p):\n",
    "            return p\n",
    "\n",
    "# Function to find a generator for Z_p\n",
    "def find_generator(p):\n",
    "    # Find factors of p-1\n",
    "    factors = []\n",
    "    phi = p - 1\n",
    "    n = phi\n",
    "    i = 2\n",
    "    while i * i <= n:\n",
    "        if n % i == 0:\n",
    "            factors.append(i)\n",
    "            while n % i == 0:\n",
    "                n //= i\n",
    "        i += 1\n",
    "    if n > 1:\n",
    "        factors.append(n)\n",
    "    \n",
    "    for g in range(2, p):\n",
    "        valid_generator = True\n",
    "        for factor in factors:\n",
    "            if pow(g, phi // factor, p) == 1:\n",
    "                valid_generator = False\n",
    "                break\n",
    "        if valid_generator:\n",
    "            return g\n",
    "    return None\n",
    "\n",
    "# Generate a large prime number\n",
    "p = generate_large_prime(64)\n",
    "\n",
    "# Find a generator g for Z_p\n",
    "g = find_generator(p)\n",
    "\n",
    "# Generate secret key\n",
    "s = random.randint(1, p-2)\n",
    "\n",
    "# Compute public key\n",
    "v = pow(g, s, p)\n",
    "\n",
    "print('*public parameters*')\n",
    "print('prime modulus (p):', p)\n",
    "print('generator     (g):', g)\n",
    "print('*key pair of original signer*')\n",
    "print('public key    (v):', v)\n",
    "print('secret key    (s):', s)\n"
   ]
  },
  {
   "cell_type": "markdown",
   "id": "9f1e1bf3",
   "metadata": {},
   "source": [
    "## Step 1: Proxy generation\n",
    "\n",
    "Proxy: ($\\sigma$, K)"
   ]
  },
  {
   "cell_type": "code",
   "execution_count": 32,
   "id": "541c7d8f",
   "metadata": {},
   "outputs": [
    {
     "name": "stdout",
     "output_type": "stream",
     "text": [
      "(just any) random number k: 4641269063811794972\n",
      "*proxy value pair for proxy signer*\n",
      "K    : 1703719962413632553\n",
      "sigma: 3377736686810704213\n"
     ]
    }
   ],
   "source": [
    "k = random.randint(1, p-2)  # Z_{p-1}/{0}\n",
    "\n",
    "\n",
    "print('(just any) random number k:', k)\n",
    "\n",
    "print('*proxy value pair for proxy signer*')\n",
    "\n",
    "# Efficiently compute K = g^k % p using the pow function\n",
    "bigk = pow(g, k, p)\n",
    "print('K    :', bigk)\n",
    "\n",
    "sigma = (s + k * bigk) % (p - 1)\n",
    "print('sigma:', sigma)\n"
   ]
  },
  {
   "cell_type": "markdown",
   "id": "1257811c",
   "metadata": {},
   "source": [
    "## Step 2: Proxy delivery\n",
    "\n",
    "The proxy $(\\sigma,K)$, must be given by original signer to proxy signer securely.\n",
    "\n",
    "For example, using Diffie-Hellman to create a secure tunnel, this can be done."
   ]
  },
  {
   "cell_type": "markdown",
   "id": "77667dc9",
   "metadata": {},
   "source": [
    "## Step 3: Proxy verification"
   ]
  },
  {
   "cell_type": "code",
   "execution_count": 33,
   "id": "1880edb1",
   "metadata": {},
   "outputs": [
    {
     "name": "stdout",
     "output_type": "stream",
     "text": [
      "LHS: 1706151432803013004\n",
      "RHS: 1706151432803013004\n",
      "Proxy Verification: Passed\n"
     ]
    }
   ],
   "source": [
    "# Efficiently compute LHS = g^sigma % p\n",
    "lhs = pow(g, sigma, p)\n",
    "\n",
    "# Efficiently compute RHS = (v * bigk^bigk) % p\n",
    "# First, calculate bigk^bigk % p, then multiply by v, and finally take mod p\n",
    "rhs = (v * pow(bigk, bigk, p)) % p\n",
    "\n",
    "print('LHS:', lhs)\n",
    "print('RHS:', rhs)\n",
    "\n",
    "if lhs == rhs:\n",
    "    print('Proxy Verification: Passed')\n",
    "else:\n",
    "    print('Proxy Verification: Failed')\n"
   ]
  },
  {
   "cell_type": "markdown",
   "id": "fd711b1a",
   "metadata": {},
   "source": [
    "## Step 4: Signing by the proxy signer\n",
    "\n",
    "We are going to use __ElGamal signature scheme__.\n",
    "\n",
    "The __ElGamal signing__ protocol to sign message $m$ where the secret key of the signer is $x$:\n",
    "1. Choose an integer $k$ randomly from $\\{ 2 \\ldots p−2 \\}$  with $k$ relatively prime to $p−1$.\n",
    "2. Compute $r \\equiv g^{k} \\pmod p$.\n",
    "3. Compute $s \\equiv (H(m)-xr)k^{-1} \\pmod {p-1}$.\n",
    "If s = 0, then start again with a different random k.\n",
    "\n",
    "The signature is $(r,s)$. \n",
    "\n",
    "When generating the proxy signature, use $\\sigma$ instead of the secret key $x$."
   ]
  },
  {
   "cell_type": "code",
   "execution_count": 34,
   "id": "b0bd9146",
   "metadata": {},
   "outputs": [
    {
     "name": "stdout",
     "output_type": "stream",
     "text": [
      "message: Ado mama Anjula\n",
      "message (m): 92936444892425296126897496249657084158512872626459328642006554000005634312468\n",
      "(a special) random number k: 3749014329375830993 (found after 2 tries. This is relatively prime to p-1 = 5032252537865353032 )\n",
      "r    : 2957268667464979456\n",
      "Signature: (2957268667464979456, 92936444892425296126897496249657084158502883751588476376110099722314696664340)\n"
     ]
    }
   ],
   "source": [
    "import hashlib\n",
    "# Message to sign, treated as H(m), where m is randomly chosen in the range [1, p-1]\n",
    "# m = random.randint(1, p-1)\n",
    "# m = 191961389165164313261613516115364513513189135162935136113513615613\n",
    "\n",
    "# get the message as input from a message.txt file\n",
    "def read_message_from_file(file_name):\n",
    "    with open(file_name, 'r') as file:\n",
    "        # Read the message from the file\n",
    "        message = file.read()\n",
    "        print('message:', message)\n",
    "        # Convert the message to a sha256 hash\n",
    "        sha256_hash = hashlib.sha256(message.encode()).hexdigest()\n",
    "        \n",
    "    return int(sha256_hash, 16) # Convert the hash to an integer\n",
    "    \n",
    "message_filename = 'message.txt'\n",
    "m = read_message_from_file(message_filename)\n",
    "\n",
    "print('message (m):', m)\n",
    "\n",
    "# Find k such that gcd(k, p-1) = 1\n",
    "k = 0\n",
    "for i in range(1000):  # Maximum 1000 attempts to find a suitable k\n",
    "    k = random.randint(2, p-2)\n",
    "    if gcd(p-1, k) == 1:\n",
    "        break\n",
    "\n",
    "print('(a special) random number k:', k, '(found after', i, 'tries. This is relatively prime to p-1 =', p-1, ')')\n",
    "\n",
    "# Compute r ≡ g^k mod p using pow function for efficiency\n",
    "r = pow(g, k, p)\n",
    "print('r    :', r)\n",
    "\n",
    "s1 = (m - (sigma * r))\n",
    "\n",
    "# The signature is (r, s1)\n",
    "signature = (r, s1)\n",
    "print('Signature:', signature)"
   ]
  },
  {
   "cell_type": "code",
   "execution_count": 35,
   "id": "fbb9dbf1",
   "metadata": {},
   "outputs": [
    {
     "name": "stdout",
     "output_type": "stream",
     "text": [
      "Modulo inverse of k mod q: 4520124239856133097 (for 3749014329375830993 mod 5032252537865353032 )\n"
     ]
    }
   ],
   "source": [
    "# Calculate the modular inverse of k mod q efficiently\n",
    "\n",
    "def extended_gcd(k, q):\n",
    "    if k == 0:\n",
    "        return q, 0, 1\n",
    "    gcd, x1, y1 = extended_gcd(q % k, k)\n",
    "    x = y1 - (q // k) * x1\n",
    "    y = x1\n",
    "    return gcd, x, y\n",
    "\n",
    "def mod_inverse(k, q):\n",
    "    gcd, invk, _ = extended_gcd(k, q)\n",
    "    if gcd != 1:\n",
    "        raise ValueError(f\"Inverse doesn't exist for k = {k} mod q = {q}, as they are not coprime.\")\n",
    "    return invk % q\n",
    "\n",
    "q = p-1\n",
    "invk = mod_inverse(k, q)\n",
    "print('Modulo inverse of k mod q:', invk, '(for', k, 'mod', q, ')')\n"
   ]
  },
  {
   "cell_type": "code",
   "execution_count": 36,
   "id": "614e2288",
   "metadata": {},
   "outputs": [
    {
     "name": "stdout",
     "output_type": "stream",
     "text": [
      "s: 1135264699249436940\n",
      "The proxy signed message is (m, (r, s), K): ( 92936444892425296126897496249657084158512872626459328642006554000005634312468 ( 2957268667464979456 , 1135264699249436940 ) 1703719962413632553 )\n",
      "Proxy signature written to file: proxy_signature.txt\n"
     ]
    }
   ],
   "source": [
    "# Compute the final signature component s\n",
    "s = (s1 * invk) % (p - 1)\n",
    "print('s:', s)\n",
    "\n",
    "# Output the final proxy-signed message\n",
    "print('The proxy signed message is (m, (r, s), K): (', m, '(', r, ',', s, ')', bigk, ')')\n",
    "\n",
    "# Function to write a proxy signature to a file\n",
    "def write_signature_to_file(filename, signature):\n",
    "    with open(filename, 'w') as file:\n",
    "        file.write(f\"r: {signature[0]}\\n\")\n",
    "        file.write(f\"s: {signature[1]}\\n\")\n",
    "        file.write(f\"K: {signature[2]}\\n\")\n",
    "\n",
    "# Write the proxy signature to a proxy_signature.txt\n",
    "signature_filename = 'proxy_signature.txt'\n",
    "write_signature_to_file(signature_filename, (r, s, bigk))\n",
    "print(f\"Proxy signature written to file: {signature_filename}\")\n"
   ]
  },
  {
   "cell_type": "markdown",
   "id": "f547e51f",
   "metadata": {},
   "source": [
    "## Step 5: Verification of the proxy signature\n",
    "\n",
    "The new public key $v' \\equiv vK^K \\pmod p$"
   ]
  },
  {
   "cell_type": "markdown",
   "id": "0d7f64f1",
   "metadata": {},
   "source": [
    "The __ElGamal signature verification__ protocol to verify a signed message $m$ with signature $(r,s)$ where the public key of the signer is $y$:\n",
    "1. Verify that $0 < r < p$ and $0 < s < p − 1$.\n",
    "2. Verify that $g^{H(m)} \\equiv y^r r^s \\pmod p$."
   ]
  },
  {
   "cell_type": "code",
   "execution_count": 37,
   "id": "ecb2d1dc",
   "metadata": {},
   "outputs": [
    {
     "name": "stdout",
     "output_type": "stream",
     "text": [
      "Proxy signature read from file: (2957268667464979456, 1135264699249436940, 1703719962413632553)\n",
      "message: Ado mama Anjula\n",
      "Message read from file: 92936444892425296126897496249657084158512872626459328642006554000005634312468\n",
      "r = 2957268667464979456 , s = 1135264699249436940 , p = 5032252537865353033\n",
      "Verification Check 1: Passed\n"
     ]
    }
   ],
   "source": [
    "# Function to read a proxy signature from a file\n",
    "def read_signature_from_file(filename):\n",
    "    with open(filename, 'r') as file:\n",
    "        lines = file.readlines()\n",
    "        r = int(lines[0].split(': ')[1])\n",
    "        s = int(lines[1].split(': ')[1])\n",
    "        K = int(lines[2].split(': ')[1])\n",
    "        return r, s, K\n",
    "\n",
    "# Read the proxy signature from a file proxy_signature.txt\n",
    "signature_filename = 'proxy_signature.txt'\n",
    "r, s, bigk = read_signature_from_file(signature_filename)\n",
    "print('Proxy signature read from file:', (r, s, bigk))\n",
    "\n",
    "message_filename = 'message.txt'\n",
    "m = read_message_from_file(message_filename)\n",
    "print('Message read from file:', m)\n",
    "\n",
    "print('r =',r,', s =',s,', p =',p)\n",
    "check1 = False\n",
    "check2 = False\n",
    "# Verification Check 1\n",
    "if (0<r) & (r<p):\n",
    "    if (0<s) & (s<(p-1)):\n",
    "        check1 = True\n",
    "        print('Verification Check 1: Passed')\n",
    "    else:\n",
    "        print('Verification Check 1: Failed')\n",
    "else:\n",
    "    print('Verification Check 1: Failed')"
   ]
  },
  {
   "cell_type": "code",
   "execution_count": 38,
   "id": "5845b9b8",
   "metadata": {},
   "outputs": [
    {
     "name": "stdout",
     "output_type": "stream",
     "text": [
      "LHS: 3756076729166452990\n",
      "RHS: 3756076729166452990\n",
      "Verification Check 2: Passed\n"
     ]
    }
   ],
   "source": [
    "# Assuming rhs is the proxy public key and lhs is defined as follows\n",
    "y = (v * pow(bigk, bigk, p)) % p  # Proxy public key y = VK^K mod p\n",
    "\n",
    "# Compute LHS = g^m % p efficiently\n",
    "lhs = pow(g, m, p)\n",
    "\n",
    "# Compute RHS = (y^r * r^s) % p efficiently\n",
    "rhs = (pow(y, r, p) * pow(r, s, p)) % p\n",
    "\n",
    "# Print results\n",
    "print('LHS:', lhs)\n",
    "print('RHS:', rhs)\n",
    "\n",
    "# Verify if LHS equals RHS\n",
    "if lhs == rhs:\n",
    "    check2 = True\n",
    "    print('Verification Check 2: Passed')\n",
    "else:\n",
    "    check2 = False\n",
    "    print('Verification Check 2: Failed')\n"
   ]
  },
  {
   "cell_type": "code",
   "execution_count": 39,
   "id": "a0c9713b",
   "metadata": {},
   "outputs": [
    {
     "name": "stdout",
     "output_type": "stream",
     "text": [
      "Proxy signature verification: Passed\n"
     ]
    }
   ],
   "source": [
    "if(check1 & check2):\n",
    "    print('Proxy signature verification: Passed')\n",
    "else:\n",
    "    print('Proxy signature verification: Failed')"
   ]
  },
  {
   "cell_type": "code",
   "execution_count": 73,
   "id": "6b0d4496",
   "metadata": {},
   "outputs": [
    {
     "name": "stdout",
     "output_type": "stream",
     "text": [
      "97773333501964145945851685283748420244849612380276164018218382747614908598279153173622708263024100976032803749294853176801279578526308087119884174093528963736076497737699169814652156047617941147626907362210156548586211550751163850079356229550574339938448978911498408934087353682117698189092856543278608851725\n"
     ]
    }
   ],
   "source": [
    "import random\n",
    "genrated_number = random.getrandbits(1024)\n",
    "print(genrated_number)"
   ]
  },
  {
   "cell_type": "code",
   "execution_count": 82,
   "id": "c4ea6297",
   "metadata": {},
   "outputs": [
    {
     "name": "stdout",
     "output_type": "stream",
     "text": [
      "152642452731986236266917600130708390579028167712776439390699028344909777667204382863740435807987428154387474465444171074509230880947785368936452777958972785382354187915618459205899645333281563009066484139615965359723310359933667317792118326106773678447759884378243046264543382049899602593075709467366738045073\n"
     ]
    }
   ],
   "source": [
    "# modulus addition\n",
    "\n",
    "mod_512 = 2**512\n",
    "mod_1024 = 2**1024\n",
    "mod_2048 = 2**2048\n",
    "\n",
    "value = ((-87598250036046328361573979505897579787456709099174749148423254841095346166072716324373693401289806040349925933362124410478422643300338463347490089195912682110518980566451036360852877358396540284568447404069928935265327993407370576884662731932897796849068204195588940852651911426296135682164641491366577360037\n",
    "         * -21719959093543122193271597345913092765662363758920770284300105782111269136091634723077329996229524739293188973726960630197805213008905755855383760381155029228488818252788461905700483460905197645298493264714083598738790014487001568691651326578867087973323242769874902344568522847443006422922857740695323511933) \n",
    "        % mod_1024)\n",
    "print(value)"
   ]
  },
  {
   "cell_type": "code",
   "execution_count": null,
   "id": "fa562b26",
   "metadata": {},
   "outputs": [],
   "source": []
  }
 ],
 "metadata": {
  "kernelspec": {
   "display_name": "Python 3 (ipykernel)",
   "language": "python",
   "name": "python3"
  },
  "language_info": {
   "codemirror_mode": {
    "name": "ipython",
    "version": 3
   },
   "file_extension": ".py",
   "mimetype": "text/x-python",
   "name": "python",
   "nbconvert_exporter": "python",
   "pygments_lexer": "ipython3",
   "version": "3.11.2"
  }
 },
 "nbformat": 4,
 "nbformat_minor": 5
}
